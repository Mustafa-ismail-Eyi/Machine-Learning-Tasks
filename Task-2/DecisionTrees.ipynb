{
 "cells": [
  {
   "cell_type": "code",
   "execution_count": 99,
   "id": "8a56f0a0",
   "metadata": {},
   "outputs": [],
   "source": [
    "import pandas as pd\n",
    "from id3 import Id3Estimator\n",
    "import seaborn as sns\n",
    "from sklearn.metrics import confusion_matrix\n",
    "from sklearn.model_selection import train_test_split\n",
    "from sklearn.datasets import load_iris\n",
    "from c45.c45 import C45\n",
    "from sklearn.model_selection import cross_val_predict\n",
    "from sklearn.model_selection import cross_val_score\n",
    "from sklearn.model_selection import KFold\n",
    "from sklearn.metrics import accuracy_score\n",
    "from matplotlib import pyplot as plt\n",
    "from sklearn.metrics import classification_report"
   ]
  },
  {
   "cell_type": "code",
   "execution_count": 84,
   "id": "3dc3ab9d",
   "metadata": {},
   "outputs": [],
   "source": [
    "features = [\"blue\", \"dual_sim\", \"four_g\", \"three_g\", \"wifi\",'price_range','fc','int_memory','n_cores','talk_time','touch_screen']"
   ]
  },
  {
   "cell_type": "code",
   "execution_count": 85,
   "id": "914fe391",
   "metadata": {},
   "outputs": [],
   "source": [
    "mobile = pd.read_csv(\"./archive/train.csv\",usecols=features)\n",
    "train = mobile.drop(columns=[\"price_range\"])\n",
    "target = mobile['price_range']"
   ]
  },
  {
   "cell_type": "code",
   "execution_count": 115,
   "id": "ff1e9a73",
   "metadata": {},
   "outputs": [],
   "source": [
    "x_train, x_test, y_train, y_test= train_test_split(train, target.values, test_size = 0.3, random_state= 42, shuffle=True)\n",
    "kfold = KFold(n_splits = 2)"
   ]
  },
  {
   "cell_type": "code",
   "execution_count": 116,
   "id": "1fe6a7a5",
   "metadata": {
    "scrolled": true
   },
   "outputs": [
    {
     "name": "stderr",
     "output_type": "stream",
     "text": [
      "C:\\Users\\eyimu\\anaconda3\\envs\\mlweka\\lib\\site-packages\\sklearn\\model_selection\\_split.py:437: DeprecationWarning: `np.int` is a deprecated alias for the builtin `int`. To silence this warning, use `int` by itself. Doing this will not modify any behavior and is safe. When replacing `np.int`, you may wish to use e.g. `np.int64` or `np.int32` to specify the precision. If you wish to review your current use, check the release note link for additional information.\n",
      "Deprecated in NumPy 1.20; for more details and guidance: https://numpy.org/devdocs/release/1.20.0-notes.html#deprecations\n",
      "  fold_sizes = np.full(n_splits, n_samples // n_splits, dtype=np.int)\n",
      "C:\\Users\\eyimu\\anaconda3\\envs\\mlweka\\lib\\site-packages\\sklearn\\model_selection\\_split.py:113: DeprecationWarning: `np.bool` is a deprecated alias for the builtin `bool`. To silence this warning, use `bool` by itself. Doing this will not modify any behavior and is safe. If you specifically wanted the numpy scalar type, use `np.bool_` here.\n",
      "Deprecated in NumPy 1.20; for more details and guidance: https://numpy.org/devdocs/release/1.20.0-notes.html#deprecations\n",
      "  test_mask = np.zeros(_num_samples(X), dtype=np.bool)\n",
      "C:\\Users\\eyimu\\anaconda3\\envs\\mlweka\\lib\\site-packages\\sklearn\\model_selection\\_split.py:113: DeprecationWarning: `np.bool` is a deprecated alias for the builtin `bool`. To silence this warning, use `bool` by itself. Doing this will not modify any behavior and is safe. If you specifically wanted the numpy scalar type, use `np.bool_` here.\n",
      "Deprecated in NumPy 1.20; for more details and guidance: https://numpy.org/devdocs/release/1.20.0-notes.html#deprecations\n",
      "  test_mask = np.zeros(_num_samples(X), dtype=np.bool)\n"
     ]
    }
   ],
   "source": [
    "id3_clf = Id3Estimator()\n",
    "testing_score = []\n",
    "training_score = []\n",
    "for train_index, test_index in kfold.split(x_train):\n",
    "#     print(train_index)\n",
    "    X_train, X_test = x_train.iloc[train_index], x_train.iloc[test_index]\n",
    "    Y_train, Y_test = y_train[train_index], y_train[test_index]\n",
    "    id3_clf.fit(X_train,Y_train)\n",
    "    temp_predicts = id3_clf.predict(x_train)\n",
    "    training_score.append(accuracy_score(y_train, temp_predicts))\n",
    "    train_predictions = id3_clf.predict(X_test)\n",
    "    testing_score.append(accuracy_score(Y_test, train_predictions))"
   ]
  },
  {
   "cell_type": "code",
   "execution_count": 117,
   "id": "6027fba9",
   "metadata": {},
   "outputs": [
    {
     "data": {
      "text/plain": [
       "[<matplotlib.lines.Line2D at 0x12c42697ac8>]"
      ]
     },
     "execution_count": 117,
     "metadata": {},
     "output_type": "execute_result"
    },
    {
     "data": {
      "image/png": "[encoded data removed]",
      "text/plain": [
       "<Figure size 432x288 with 1 Axes>"
      ]
     },
     "metadata": {
      "needs_background": "light"
     },
     "output_type": "display_data"
    }
   ],
   "source": [
    "plt.plot(training_score)"
   ]
  },
  {
   "cell_type": "code",
   "execution_count": 118,
   "id": "ab09ab7e",
   "metadata": {},
   "outputs": [
    {
     "data": {
      "text/plain": [
       "<AxesSubplot:>"
      ]
     },
     "execution_count": 118,
     "metadata": {},
     "output_type": "execute_result"
    },
    {
     "data": {
      "image/png": "[encoded data removed]",
      "text/plain": [
       "<Figure size 432x288 with 2 Axes>"
      ]
     },
     "metadata": {
      "needs_background": "light"
     },
     "output_type": "display_data"
    }
   ],
   "source": [
    "predictions = id3_clf.predict(x_test)\n",
    "cm = confusion_matrix(y_test, predictions)\n",
    "sns.heatmap(cm,annot=True, cmap = 'Blues')"
   ]
  },
  {
   "cell_type": "code",
   "execution_count": 119,
   "id": "b54ad5a8",
   "metadata": {},
   "outputs": [
    {
     "name": "stdout",
     "output_type": "stream",
     "text": [
      "              precision    recall  f1-score   support\n",
      "\n",
      "           0       0.28      0.39      0.33       151\n",
      "           1       0.22      0.26      0.24       146\n",
      "           2       0.21      0.18      0.20       148\n",
      "           3       0.27      0.16      0.20       155\n",
      "\n",
      "   micro avg       0.25      0.25      0.25       600\n",
      "   macro avg       0.25      0.25      0.24       600\n",
      "weighted avg       0.25      0.25      0.24       600\n",
      "\n"
     ]
    }
   ],
   "source": [
    "print(classification_report(y_test, predictions))"
   ]
  },
  {
   "cell_type": "code",
   "execution_count": 120,
   "id": "b363eef5",
   "metadata": {
    "scrolled": true
   },
   "outputs": [
    {
     "name": "stderr",
     "output_type": "stream",
     "text": [
      "C:\\Users\\eyimu\\anaconda3\\envs\\mlweka\\lib\\site-packages\\sklearn\\model_selection\\_split.py:437: DeprecationWarning: `np.int` is a deprecated alias for the builtin `int`. To silence this warning, use `int` by itself. Doing this will not modify any behavior and is safe. When replacing `np.int`, you may wish to use e.g. `np.int64` or `np.int32` to specify the precision. If you wish to review your current use, check the release note link for additional information.\n",
      "Deprecated in NumPy 1.20; for more details and guidance: https://numpy.org/devdocs/release/1.20.0-notes.html#deprecations\n",
      "  fold_sizes = np.full(n_splits, n_samples // n_splits, dtype=np.int)\n",
      "C:\\Users\\eyimu\\anaconda3\\envs\\mlweka\\lib\\site-packages\\sklearn\\model_selection\\_split.py:113: DeprecationWarning: `np.bool` is a deprecated alias for the builtin `bool`. To silence this warning, use `bool` by itself. Doing this will not modify any behavior and is safe. If you specifically wanted the numpy scalar type, use `np.bool_` here.\n",
      "Deprecated in NumPy 1.20; for more details and guidance: https://numpy.org/devdocs/release/1.20.0-notes.html#deprecations\n",
      "  test_mask = np.zeros(_num_samples(X), dtype=np.bool)\n",
      "C:\\Users\\eyimu\\anaconda3\\envs\\mlweka\\lib\\site-packages\\sklearn\\model_selection\\_split.py:113: DeprecationWarning: `np.bool` is a deprecated alias for the builtin `bool`. To silence this warning, use `bool` by itself. Doing this will not modify any behavior and is safe. If you specifically wanted the numpy scalar type, use `np.bool_` here.\n",
      "Deprecated in NumPy 1.20; for more details and guidance: https://numpy.org/devdocs/release/1.20.0-notes.html#deprecations\n",
      "  test_mask = np.zeros(_num_samples(X), dtype=np.bool)\n"
     ]
    }
   ],
   "source": [
    "c45 = C45()\n",
    "testing_score = []\n",
    "training_score = []\n",
    "# c45_predictions = cross_val_predict(c45, X_train, Y_train, cv=2)\n",
    "for train_index, test_index in kfold.split(x_train):\n",
    "#     print(train_index)\n",
    "    X_train, X_test = x_train.iloc[train_index], x_train.iloc[test_index]\n",
    "    Y_train, Y_test = y_train[train_index], y_train[test_index]\n",
    "    c45.fit(X_train,Y_train)\n",
    "    temp_predicts = c45.predict(x_train)\n",
    "    training_score.append(accuracy_score(y_train, temp_predicts))\n",
    "    train_predictions = c45.predict(X_test)\n",
    "    testing_score.append(accuracy_score(Y_test, train_predictions))"
   ]
  },
  {
   "cell_type": "code",
   "execution_count": 121,
   "id": "546108e4",
   "metadata": {},
   "outputs": [
    {
     "data": {
      "text/plain": [
       "[<matplotlib.lines.Line2D at 0x12c436398c8>]"
      ]
     },
     "execution_count": 121,
     "metadata": {},
     "output_type": "execute_result"
    },
    {
     "data": {
      "image/png": "[encoded data removed]",
      "text/plain": [
       "<Figure size 432x288 with 1 Axes>"
      ]
     },
     "metadata": {
      "needs_background": "light"
     },
     "output_type": "display_data"
    }
   ],
   "source": [
    "plt.plot(testing_score)"
   ]
  },
  {
   "cell_type": "code",
   "execution_count": 122,
   "id": "4d8e6bc5",
   "metadata": {},
   "outputs": [
    {
     "data": {
      "text/plain": [
       "<AxesSubplot:>"
      ]
     },
     "execution_count": 122,
     "metadata": {},
     "output_type": "execute_result"
    },
    {
     "data": {
      "image/png": "[encoded data removed]",
      "text/plain": [
       "<Figure size 432x288 with 2 Axes>"
      ]
     },
     "metadata": {
      "needs_background": "light"
     },
     "output_type": "display_data"
    }
   ],
   "source": [
    "c45_predictions = c45.predict(x_test)\n",
    "cm = confusion_matrix(y_test, c45_predictions)\n",
    "sns.heatmap(cm,annot=True, cmap = 'Blues')"
   ]
  },
  {
   "cell_type": "code",
   "execution_count": 123,
   "id": "6cdb0d1b",
   "metadata": {},
   "outputs": [
    {
     "name": "stdout",
     "output_type": "stream",
     "text": [
      "              precision    recall  f1-score   support\n",
      "\n",
      "           0       0.29      0.34      0.31       151\n",
      "           1       0.22      0.23      0.22       146\n",
      "           2       0.24      0.22      0.23       148\n",
      "           3       0.24      0.22      0.23       155\n",
      "\n",
      "   micro avg       0.25      0.25      0.25       600\n",
      "   macro avg       0.25      0.25      0.25       600\n",
      "weighted avg       0.25      0.25      0.25       600\n",
      "\n"
     ]
    }
   ],
   "source": [
    "print(classification_report(y_test, c45_predictions))"
   ]
  },
  {
   "cell_type": "code",
   "execution_count": null,
   "id": "bbcf1fa8",
   "metadata": {},
   "outputs": [],
   "source": []
  }
 ],
 "metadata": {
  "kernelspec": {
   "display_name": "Python 3",
   "language": "python",
   "name": "python3"
  },
  "language_info": {
   "codemirror_mode": {
    "name": "ipython",
    "version": 3
   },
   "file_extension": ".py",
   "mimetype": "text/x-python",
   "name": "python",
   "nbconvert_exporter": "python",
   "pygments_lexer": "ipython3",
   "version": "3.7.5"
  }
 },
 "nbformat": 4,
 "nbformat_minor": 5
}

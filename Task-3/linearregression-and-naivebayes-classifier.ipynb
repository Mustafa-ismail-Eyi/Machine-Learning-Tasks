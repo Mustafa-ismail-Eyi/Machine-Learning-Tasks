{
 "cells": [
  {
   "cell_type": "code",
   "execution_count": 1,
   "id": "australian-palace",
   "metadata": {
    "_cell_guid": "b1076dfc-b9ad-4769-8c92-a6c4dae69d19",
    "_uuid": "8f2839f25d086af736a60e9eeb907d3b93b6e0e5",
    "execution": {
     "iopub.execute_input": "2021-04-18T15:41:57.136505Z",
     "iopub.status.busy": "2021-04-18T15:41:57.135735Z",
     "iopub.status.idle": "2021-04-18T15:41:57.148252Z",
     "shell.execute_reply": "2021-04-18T15:41:57.147437Z"
    },
    "papermill": {
     "duration": 0.032877,
     "end_time": "2021-04-18T15:41:57.148424",
     "exception": false,
     "start_time": "2021-04-18T15:41:57.115547",
     "status": "completed"
    },
    "tags": []
   },
   "outputs": [
    {
     "name": "stdout",
     "output_type": "stream",
     "text": [
      "/kaggle/input/pima-indians-diabetes-database/diabetes.csv\n"
     ]
    }
   ],
   "source": [
    "# This Python 3 environment comes with many helpful analytics libraries installed\n",
    "# It is defined by the kaggle/python Docker image: https://github.com/kaggle/docker-python\n",
    "# For example, here's several helpful packages to load\n",
    "\n",
    "import numpy as np # linear algebra\n",
    "import pandas as pd # data processing, CSV file I/O (e.g. pd.read_csv)\n",
    "\n",
    "# Input data files are available in the read-only \"../input/\" directory\n",
    "# For example, running this (by clicking run or pressing Shift+Enter) will list all files under the input directory\n",
    "\n",
    "import os\n",
    "for dirname, _, filenames in os.walk('/kaggle/input'):\n",
    "    for filename in filenames:\n",
    "        print(os.path.join(dirname, filename))\n",
    "\n",
    "# You can write up to 20GB to the current directory (/kaggle/working/) that gets preserved as output when you create a version using \"Save & Run All\" \n",
    "# You can also write temporary files to /kaggle/temp/, but they won't be saved outside of the current session"
   ]
  },
  {
   "cell_type": "code",
   "execution_count": 2,
   "id": "passive-merchandise",
   "metadata": {
    "execution": {
     "iopub.execute_input": "2021-04-18T15:41:57.181839Z",
     "iopub.status.busy": "2021-04-18T15:41:57.181093Z",
     "iopub.status.idle": "2021-04-18T15:41:57.198903Z",
     "shell.execute_reply": "2021-04-18T15:41:57.198180Z"
    },
    "papermill": {
     "duration": 0.036419,
     "end_time": "2021-04-18T15:41:57.199055",
     "exception": false,
     "start_time": "2021-04-18T15:41:57.162636",
     "status": "completed"
    },
    "tags": []
   },
   "outputs": [],
   "source": [
    "# loading the data\n",
    "pima = pd.read_csv(\"/kaggle/input/pima-indians-diabetes-database/diabetes.csv\")"
   ]
  },
  {
   "cell_type": "code",
   "execution_count": 3,
   "id": "controlling-seventh",
   "metadata": {
    "execution": {
     "iopub.execute_input": "2021-04-18T15:41:57.232234Z",
     "iopub.status.busy": "2021-04-18T15:41:57.231520Z",
     "iopub.status.idle": "2021-04-18T15:41:57.270902Z",
     "shell.execute_reply": "2021-04-18T15:41:57.270270Z"
    },
    "papermill": {
     "duration": 0.057184,
     "end_time": "2021-04-18T15:41:57.271062",
     "exception": false,
     "start_time": "2021-04-18T15:41:57.213878",
     "status": "completed"
    },
    "tags": []
   },
   "outputs": [
    {
     "data": {
      "text/html": [
       "<div>\n",
       "<style scoped>\n",
       "    .dataframe tbody tr th:only-of-type {\n",
       "        vertical-align: middle;\n",
       "    }\n",
       "\n",
       "    .dataframe tbody tr th {\n",
       "        vertical-align: top;\n",
       "    }\n",
       "\n",
       "    .dataframe thead th {\n",
       "        text-align: right;\n",
       "    }\n",
       "</style>\n",
       "<table border=\"1\" class=\"dataframe\">\n",
       "  <thead>\n",
       "    <tr style=\"text-align: right;\">\n",
       "      <th></th>\n",
       "      <th>Pregnancies</th>\n",
       "      <th>Glucose</th>\n",
       "      <th>BloodPressure</th>\n",
       "      <th>SkinThickness</th>\n",
       "      <th>Insulin</th>\n",
       "      <th>BMI</th>\n",
       "      <th>DiabetesPedigreeFunction</th>\n",
       "      <th>Age</th>\n",
       "      <th>Outcome</th>\n",
       "    </tr>\n",
       "  </thead>\n",
       "  <tbody>\n",
       "    <tr>\n",
       "      <th>0</th>\n",
       "      <td>6</td>\n",
       "      <td>148</td>\n",
       "      <td>72</td>\n",
       "      <td>35</td>\n",
       "      <td>0</td>\n",
       "      <td>33.6</td>\n",
       "      <td>0.627</td>\n",
       "      <td>50</td>\n",
       "      <td>1</td>\n",
       "    </tr>\n",
       "    <tr>\n",
       "      <th>1</th>\n",
       "      <td>1</td>\n",
       "      <td>85</td>\n",
       "      <td>66</td>\n",
       "      <td>29</td>\n",
       "      <td>0</td>\n",
       "      <td>26.6</td>\n",
       "      <td>0.351</td>\n",
       "      <td>31</td>\n",
       "      <td>0</td>\n",
       "    </tr>\n",
       "    <tr>\n",
       "      <th>2</th>\n",
       "      <td>8</td>\n",
       "      <td>183</td>\n",
       "      <td>64</td>\n",
       "      <td>0</td>\n",
       "      <td>0</td>\n",
       "      <td>23.3</td>\n",
       "      <td>0.672</td>\n",
       "      <td>32</td>\n",
       "      <td>1</td>\n",
       "    </tr>\n",
       "    <tr>\n",
       "      <th>3</th>\n",
       "      <td>1</td>\n",
       "      <td>89</td>\n",
       "      <td>66</td>\n",
       "      <td>23</td>\n",
       "      <td>94</td>\n",
       "      <td>28.1</td>\n",
       "      <td>0.167</td>\n",
       "      <td>21</td>\n",
       "      <td>0</td>\n",
       "    </tr>\n",
       "    <tr>\n",
       "      <th>4</th>\n",
       "      <td>0</td>\n",
       "      <td>137</td>\n",
       "      <td>40</td>\n",
       "      <td>35</td>\n",
       "      <td>168</td>\n",
       "      <td>43.1</td>\n",
       "      <td>2.288</td>\n",
       "      <td>33</td>\n",
       "      <td>1</td>\n",
       "    </tr>\n",
       "  </tbody>\n",
       "</table>\n",
       "</div>"
      ],
      "text/plain": [
       "   Pregnancies  Glucose  BloodPressure  SkinThickness  Insulin   BMI  \\\n",
       "0            6      148             72             35        0  33.6   \n",
       "1            1       85             66             29        0  26.6   \n",
       "2            8      183             64              0        0  23.3   \n",
       "3            1       89             66             23       94  28.1   \n",
       "4            0      137             40             35      168  43.1   \n",
       "\n",
       "   DiabetesPedigreeFunction  Age  Outcome  \n",
       "0                     0.627   50        1  \n",
       "1                     0.351   31        0  \n",
       "2                     0.672   32        1  \n",
       "3                     0.167   21        0  \n",
       "4                     2.288   33        1  "
      ]
     },
     "execution_count": 3,
     "metadata": {},
     "output_type": "execute_result"
    }
   ],
   "source": [
    "# \n",
    "pima.head()"
   ]
  },
  {
   "cell_type": "code",
   "execution_count": 4,
   "id": "earned-jesus",
   "metadata": {
    "execution": {
     "iopub.execute_input": "2021-04-18T15:41:57.306249Z",
     "iopub.status.busy": "2021-04-18T15:41:57.305557Z",
     "iopub.status.idle": "2021-04-18T15:41:57.337295Z",
     "shell.execute_reply": "2021-04-18T15:41:57.338577Z"
    },
    "papermill": {
     "duration": 0.053049,
     "end_time": "2021-04-18T15:41:57.338866",
     "exception": false,
     "start_time": "2021-04-18T15:41:57.285817",
     "status": "completed"
    },
    "tags": []
   },
   "outputs": [
    {
     "name": "stdout",
     "output_type": "stream",
     "text": [
      "Pregnancies has  111 zeros\n",
      "Glucose has  5 zeros\n",
      "BloodPressure has  35 zeros\n",
      "SkinThickness has  227 zeros\n",
      "Insulin has  374 zeros\n",
      "BMI has  11 zeros\n",
      "DiabetesPedigreeFunction has  0 zeros\n",
      "Age has  0 zeros\n",
      "Outcome has  500 zeros\n"
     ]
    }
   ],
   "source": [
    "# Dataset has some 0 values instead of Null values\n",
    "for column in pima.columns:\n",
    "    print(\"{col} has \".format(col = column),pima[pima[column]==0][column].count(),\"zeros\")"
   ]
  },
  {
   "cell_type": "code",
   "execution_count": 5,
   "id": "fitting-wings",
   "metadata": {
    "execution": {
     "iopub.execute_input": "2021-04-18T15:41:57.374836Z",
     "iopub.status.busy": "2021-04-18T15:41:57.373748Z",
     "iopub.status.idle": "2021-04-18T15:41:57.376912Z",
     "shell.execute_reply": "2021-04-18T15:41:57.376410Z"
    },
    "papermill": {
     "duration": 0.022909,
     "end_time": "2021-04-18T15:41:57.377056",
     "exception": false,
     "start_time": "2021-04-18T15:41:57.354147",
     "status": "completed"
    },
    "tags": []
   },
   "outputs": [],
   "source": [
    "# For data preporcessing, a copy is needed.\n",
    "df = pima.copy()"
   ]
  },
  {
   "cell_type": "code",
   "execution_count": 6,
   "id": "handmade-weapon",
   "metadata": {
    "execution": {
     "iopub.execute_input": "2021-04-18T15:41:57.419446Z",
     "iopub.status.busy": "2021-04-18T15:41:57.418705Z",
     "iopub.status.idle": "2021-04-18T15:41:57.423894Z",
     "shell.execute_reply": "2021-04-18T15:41:57.424419Z"
    },
    "papermill": {
     "duration": 0.032647,
     "end_time": "2021-04-18T15:41:57.424610",
     "exception": false,
     "start_time": "2021-04-18T15:41:57.391963",
     "status": "completed"
    },
    "tags": []
   },
   "outputs": [],
   "source": [
    "# 0's in the features below must be filled\n",
    "# Filled with mean values of itself\n",
    "features_dealing_with_zero = ['Glucose', 'BloodPressure', 'SkinThickness', 'Insulin', 'BMI']\n",
    "for features in features_dealing_with_zero:\n",
    "    df[features].replace(0,np.nan,inplace=True)\n",
    "    df[features].fillna(pima[features].mean(),inplace=True)"
   ]
  },
  {
   "cell_type": "code",
   "execution_count": 7,
   "id": "computational-title",
   "metadata": {
    "execution": {
     "iopub.execute_input": "2021-04-18T15:41:57.473461Z",
     "iopub.status.busy": "2021-04-18T15:41:57.464141Z",
     "iopub.status.idle": "2021-04-18T15:41:57.478545Z",
     "shell.execute_reply": "2021-04-18T15:41:57.478003Z"
    },
    "papermill": {
     "duration": 0.038791,
     "end_time": "2021-04-18T15:41:57.478698",
     "exception": false,
     "start_time": "2021-04-18T15:41:57.439907",
     "status": "completed"
    },
    "tags": []
   },
   "outputs": [
    {
     "data": {
      "text/html": [
       "<div>\n",
       "<style scoped>\n",
       "    .dataframe tbody tr th:only-of-type {\n",
       "        vertical-align: middle;\n",
       "    }\n",
       "\n",
       "    .dataframe tbody tr th {\n",
       "        vertical-align: top;\n",
       "    }\n",
       "\n",
       "    .dataframe thead th {\n",
       "        text-align: right;\n",
       "    }\n",
       "</style>\n",
       "<table border=\"1\" class=\"dataframe\">\n",
       "  <thead>\n",
       "    <tr style=\"text-align: right;\">\n",
       "      <th></th>\n",
       "      <th>Pregnancies</th>\n",
       "      <th>Glucose</th>\n",
       "      <th>BloodPressure</th>\n",
       "      <th>SkinThickness</th>\n",
       "      <th>Insulin</th>\n",
       "      <th>BMI</th>\n",
       "      <th>DiabetesPedigreeFunction</th>\n",
       "      <th>Age</th>\n",
       "      <th>Outcome</th>\n",
       "    </tr>\n",
       "  </thead>\n",
       "  <tbody>\n",
       "    <tr>\n",
       "      <th>0</th>\n",
       "      <td>6</td>\n",
       "      <td>148.0</td>\n",
       "      <td>72.0</td>\n",
       "      <td>35</td>\n",
       "      <td>79</td>\n",
       "      <td>33.6</td>\n",
       "      <td>0.627</td>\n",
       "      <td>50</td>\n",
       "      <td>1</td>\n",
       "    </tr>\n",
       "    <tr>\n",
       "      <th>1</th>\n",
       "      <td>1</td>\n",
       "      <td>85.0</td>\n",
       "      <td>66.0</td>\n",
       "      <td>29</td>\n",
       "      <td>79</td>\n",
       "      <td>26.6</td>\n",
       "      <td>0.351</td>\n",
       "      <td>31</td>\n",
       "      <td>-1</td>\n",
       "    </tr>\n",
       "    <tr>\n",
       "      <th>2</th>\n",
       "      <td>8</td>\n",
       "      <td>183.0</td>\n",
       "      <td>64.0</td>\n",
       "      <td>20</td>\n",
       "      <td>79</td>\n",
       "      <td>23.3</td>\n",
       "      <td>0.672</td>\n",
       "      <td>32</td>\n",
       "      <td>1</td>\n",
       "    </tr>\n",
       "    <tr>\n",
       "      <th>3</th>\n",
       "      <td>1</td>\n",
       "      <td>89.0</td>\n",
       "      <td>66.0</td>\n",
       "      <td>23</td>\n",
       "      <td>94</td>\n",
       "      <td>28.1</td>\n",
       "      <td>0.167</td>\n",
       "      <td>21</td>\n",
       "      <td>-1</td>\n",
       "    </tr>\n",
       "    <tr>\n",
       "      <th>4</th>\n",
       "      <td>0</td>\n",
       "      <td>137.0</td>\n",
       "      <td>40.0</td>\n",
       "      <td>35</td>\n",
       "      <td>168</td>\n",
       "      <td>43.1</td>\n",
       "      <td>2.288</td>\n",
       "      <td>33</td>\n",
       "      <td>1</td>\n",
       "    </tr>\n",
       "  </tbody>\n",
       "</table>\n",
       "</div>"
      ],
      "text/plain": [
       "   Pregnancies  Glucose  BloodPressure  SkinThickness  Insulin   BMI  \\\n",
       "0            6    148.0           72.0             35       79  33.6   \n",
       "1            1     85.0           66.0             29       79  26.6   \n",
       "2            8    183.0           64.0             20       79  23.3   \n",
       "3            1     89.0           66.0             23       94  28.1   \n",
       "4            0    137.0           40.0             35      168  43.1   \n",
       "\n",
       "   DiabetesPedigreeFunction  Age  Outcome  \n",
       "0                     0.627   50        1  \n",
       "1                     0.351   31       -1  \n",
       "2                     0.672   32        1  \n",
       "3                     0.167   21       -1  \n",
       "4                     2.288   33        1  "
      ]
     },
     "execution_count": 7,
     "metadata": {},
     "output_type": "execute_result"
    }
   ],
   "source": [
    "df.Insulin = df.Insulin.astype(int)\n",
    "df.SkinThickness = df.SkinThickness.astype(int)\n",
    "\n",
    "# 0's in outcome transformed into -1, it is more appropriate\n",
    "df.Outcome = df.Outcome.replace(0,-1)\n",
    "df.Outcome = df.Outcome.astype(int)\n",
    "df.head()"
   ]
  },
  {
   "cell_type": "code",
   "execution_count": 8,
   "id": "noted-phoenix",
   "metadata": {
    "execution": {
     "iopub.execute_input": "2021-04-18T15:41:57.520876Z",
     "iopub.status.busy": "2021-04-18T15:41:57.519965Z",
     "iopub.status.idle": "2021-04-18T15:41:57.523281Z",
     "shell.execute_reply": "2021-04-18T15:41:57.522606Z"
    },
    "papermill": {
     "duration": 0.02705,
     "end_time": "2021-04-18T15:41:57.523428",
     "exception": false,
     "start_time": "2021-04-18T15:41:57.496378",
     "status": "completed"
    },
    "tags": []
   },
   "outputs": [],
   "source": [
    "X = df.iloc[:-100,:-1]\n",
    "x_test = df.iloc[-100:,:-1]\n",
    "Y = df.iloc[:-100,-1]\n",
    "y_test = df.iloc[-100:,-1]"
   ]
  },
  {
   "cell_type": "code",
   "execution_count": 9,
   "id": "objective-quest",
   "metadata": {
    "execution": {
     "iopub.execute_input": "2021-04-18T15:41:57.562130Z",
     "iopub.status.busy": "2021-04-18T15:41:57.561476Z",
     "iopub.status.idle": "2021-04-18T15:41:59.134440Z",
     "shell.execute_reply": "2021-04-18T15:41:59.133404Z"
    },
    "papermill": {
     "duration": 1.594746,
     "end_time": "2021-04-18T15:41:59.134609",
     "exception": false,
     "start_time": "2021-04-18T15:41:57.539863",
     "status": "completed"
    },
    "tags": []
   },
   "outputs": [],
   "source": [
    "from sklearn.naive_bayes import GaussianNB\n",
    "from sklearn.linear_model import LinearRegression, LogisticRegression\n",
    "from sklearn.model_selection import KFold, cross_val_score, cross_val_predict\n",
    "from sklearn.metrics import classification_report, confusion_matrix, accuracy_score\n",
    "import seaborn as sns\n",
    "from matplotlib import pyplot as plt"
   ]
  },
  {
   "cell_type": "code",
   "execution_count": 10,
   "id": "greatest-simulation",
   "metadata": {
    "execution": {
     "iopub.execute_input": "2021-04-18T15:41:59.179074Z",
     "iopub.status.busy": "2021-04-18T15:41:59.177986Z",
     "iopub.status.idle": "2021-04-18T15:41:59.220344Z",
     "shell.execute_reply": "2021-04-18T15:41:59.219405Z"
    },
    "papermill": {
     "duration": 0.069465,
     "end_time": "2021-04-18T15:41:59.220541",
     "exception": false,
     "start_time": "2021-04-18T15:41:59.151076",
     "status": "completed"
    },
    "tags": []
   },
   "outputs": [
    {
     "name": "stdout",
     "output_type": "stream",
     "text": [
      "training_score[0.3077697356471617, 0.30902769327480284]\n",
      "testing_score[0.7335329341317365, 0.7604790419161677]\n"
     ]
    }
   ],
   "source": [
    "kfold = KFold(n_splits = 2)\n",
    "LRclf = LinearRegression()\n",
    "training_score = []\n",
    "testing_score = []\n",
    "\n",
    "# Training on the 2 fold cross validation\n",
    "for train_index, test_index in kfold.split(X):\n",
    "#     print(train_index)\n",
    "    X_train, X_test = X.iloc[train_index], X.iloc[test_index]\n",
    "    Y_train, Y_test = Y.iloc[train_index], Y.iloc[test_index]\n",
    "    LRclf.fit(X_train,Y_train)\n",
    "    training_score.append(LRclf.score(X,Y))\n",
    "    train_predictions = LRclf.predict(X_test)\n",
    "    train_predictions[train_predictions < train_predictions.mean()] = -1\n",
    "    train_predictions[train_predictions >= train_predictions.mean()] = 1\n",
    "    testing_score.append(accuracy_score(Y_test, train_predictions))\n",
    "# Results scores\n",
    "print(\"training_score{training_score}\".format(training_score=training_score))\n",
    "print(\"testing_score{testing_score}\".format(testing_score=testing_score))"
   ]
  },
  {
   "cell_type": "code",
   "execution_count": 11,
   "id": "framed-desktop",
   "metadata": {
    "execution": {
     "iopub.execute_input": "2021-04-18T15:41:59.267764Z",
     "iopub.status.busy": "2021-04-18T15:41:59.266643Z",
     "iopub.status.idle": "2021-04-18T15:41:59.282055Z",
     "shell.execute_reply": "2021-04-18T15:41:59.281276Z"
    },
    "papermill": {
     "duration": 0.042443,
     "end_time": "2021-04-18T15:41:59.282265",
     "exception": false,
     "start_time": "2021-04-18T15:41:59.239822",
     "status": "completed"
    },
    "tags": []
   },
   "outputs": [
    {
     "name": "stdout",
     "output_type": "stream",
     "text": [
      "              precision    recall  f1-score   support\n",
      "\n",
      "          -1       0.84      0.75      0.79        63\n",
      "           1       0.64      0.76      0.69        37\n",
      "\n",
      "    accuracy                           0.75       100\n",
      "   macro avg       0.74      0.75      0.74       100\n",
      "weighted avg       0.76      0.75      0.75       100\n",
      "\n"
     ]
    }
   ],
   "source": [
    "# Performance of at 100 samples \n",
    "LR_preds = LRclf.predict(x_test)\n",
    "LR_preds[LR_preds < LR_preds.mean()] = -1\n",
    "LR_preds[LR_preds >= LR_preds.mean()] = 1\n",
    "print(classification_report(y_test, LR_preds))"
   ]
  },
  {
   "cell_type": "code",
   "execution_count": 12,
   "id": "loved-section",
   "metadata": {
    "execution": {
     "iopub.execute_input": "2021-04-18T15:41:59.326930Z",
     "iopub.status.busy": "2021-04-18T15:41:59.325867Z",
     "iopub.status.idle": "2021-04-18T15:41:59.573444Z",
     "shell.execute_reply": "2021-04-18T15:41:59.572808Z"
    },
    "papermill": {
     "duration": 0.271769,
     "end_time": "2021-04-18T15:41:59.573590",
     "exception": false,
     "start_time": "2021-04-18T15:41:59.301821",
     "status": "completed"
    },
    "tags": []
   },
   "outputs": [
    {
     "data": {
      "text/plain": [
       "<AxesSubplot:>"
      ]
     },
     "execution_count": 12,
     "metadata": {},
     "output_type": "execute_result"
    },
    {
     "data": {
      "image/png": "[encoded data removed]",
      "text/plain": [
       "<Figure size 432x288 with 2 Axes>"
      ]
     },
     "metadata": {
      "needs_background": "light"
     },
     "output_type": "display_data"
    }
   ],
   "source": [
    "# Confusion matrix scores\n",
    "cm = confusion_matrix(y_test, LR_preds)\n",
    "sns.heatmap(cm, annot=True,cmap='Blues', xticklabels=['-1','1'], yticklabels=['-1','1'])"
   ]
  },
  {
   "cell_type": "code",
   "execution_count": 13,
   "id": "about-dinner",
   "metadata": {
    "execution": {
     "iopub.execute_input": "2021-04-18T15:41:59.623452Z",
     "iopub.status.busy": "2021-04-18T15:41:59.622698Z",
     "iopub.status.idle": "2021-04-18T15:41:59.641129Z",
     "shell.execute_reply": "2021-04-18T15:41:59.640354Z"
    },
    "papermill": {
     "duration": 0.049199,
     "end_time": "2021-04-18T15:41:59.641301",
     "exception": false,
     "start_time": "2021-04-18T15:41:59.592102",
     "status": "completed"
    },
    "tags": []
   },
   "outputs": [],
   "source": [
    "GNB = GaussianNB()\n",
    "training_score = []\n",
    "testing_score = []\n",
    "\n",
    "\n",
    "# Training on the 2 fold cross validation\n",
    "for train_index, test_index in kfold.split(X):\n",
    "#     print(train_index)\n",
    "    X_train, X_test = X.iloc[train_index], X.iloc[test_index]\n",
    "    Y_train, Y_test = Y.iloc[train_index], Y.iloc[test_index]\n",
    "    GNB.fit(X_train,Y_train)\n",
    "    training_score.append(GNB.score(X,Y))\n",
    "    train_predictions = GNB.predict(X_test)\n",
    "    testing_score.append(accuracy_score(Y_test, train_predictions))"
   ]
  },
  {
   "cell_type": "code",
   "execution_count": 14,
   "id": "rational-storage",
   "metadata": {
    "execution": {
     "iopub.execute_input": "2021-04-18T15:41:59.686648Z",
     "iopub.status.busy": "2021-04-18T15:41:59.685828Z",
     "iopub.status.idle": "2021-04-18T15:41:59.689647Z",
     "shell.execute_reply": "2021-04-18T15:41:59.689049Z"
    },
    "papermill": {
     "duration": 0.029563,
     "end_time": "2021-04-18T15:41:59.689788",
     "exception": false,
     "start_time": "2021-04-18T15:41:59.660225",
     "status": "completed"
    },
    "tags": []
   },
   "outputs": [
    {
     "name": "stdout",
     "output_type": "stream",
     "text": [
      "training_score[0.7455089820359282, 0.7485029940119761]\n",
      "testing_score[0.7065868263473054, 0.7754491017964071]\n"
     ]
    }
   ],
   "source": [
    "# Results scores\n",
    "print(\"training_score{training_score}\".format(training_score=training_score))\n",
    "print(\"testing_score{testing_score}\".format(testing_score=testing_score))"
   ]
  },
  {
   "cell_type": "code",
   "execution_count": 15,
   "id": "connected-material",
   "metadata": {
    "execution": {
     "iopub.execute_input": "2021-04-18T15:41:59.739080Z",
     "iopub.status.busy": "2021-04-18T15:41:59.737361Z",
     "iopub.status.idle": "2021-04-18T15:41:59.751359Z",
     "shell.execute_reply": "2021-04-18T15:41:59.750702Z"
    },
    "papermill": {
     "duration": 0.042627,
     "end_time": "2021-04-18T15:41:59.751516",
     "exception": false,
     "start_time": "2021-04-18T15:41:59.708889",
     "status": "completed"
    },
    "tags": []
   },
   "outputs": [
    {
     "name": "stdout",
     "output_type": "stream",
     "text": [
      "              precision    recall  f1-score   support\n",
      "\n",
      "          -1       0.77      0.79      0.78        63\n",
      "           1       0.63      0.59      0.61        37\n",
      "\n",
      "    accuracy                           0.72       100\n",
      "   macro avg       0.70      0.69      0.70       100\n",
      "weighted avg       0.72      0.72      0.72       100\n",
      "\n"
     ]
    }
   ],
   "source": [
    "# Performance of at 100 samples\n",
    "GNB_preds = GNB.predict(x_test)\n",
    "print(classification_report(y_test, GNB_preds))"
   ]
  },
  {
   "cell_type": "code",
   "execution_count": 16,
   "id": "immediate-integer",
   "metadata": {
    "execution": {
     "iopub.execute_input": "2021-04-18T15:41:59.800976Z",
     "iopub.status.busy": "2021-04-18T15:41:59.800033Z",
     "iopub.status.idle": "2021-04-18T15:42:00.009461Z",
     "shell.execute_reply": "2021-04-18T15:42:00.008840Z"
    },
    "papermill": {
     "duration": 0.236098,
     "end_time": "2021-04-18T15:42:00.009620",
     "exception": false,
     "start_time": "2021-04-18T15:41:59.773522",
     "status": "completed"
    },
    "tags": []
   },
   "outputs": [
    {
     "data": {
      "text/plain": [
       "<AxesSubplot:>"
      ]
     },
     "execution_count": 16,
     "metadata": {},
     "output_type": "execute_result"
    },
    {
     "data": {
      "image/png": "[encoded data removed]",
      "text/plain": [
       "<Figure size 432x288 with 2 Axes>"
      ]
     },
     "metadata": {
      "needs_background": "light"
     },
     "output_type": "display_data"
    }
   ],
   "source": [
    "# Confusion matrix scores\n",
    "cm = confusion_matrix(y_test, GNB_preds)\n",
    "sns.heatmap(cm, annot=True,cmap='Blues', xticklabels=['-1','1'], yticklabels=['-1','1'])"
   ]
  },
  {
   "cell_type": "code",
   "execution_count": 17,
   "id": "adapted-format",
   "metadata": {
    "execution": {
     "iopub.execute_input": "2021-04-18T15:42:00.056878Z",
     "iopub.status.busy": "2021-04-18T15:42:00.055994Z",
     "iopub.status.idle": "2021-04-18T15:42:00.069699Z",
     "shell.execute_reply": "2021-04-18T15:42:00.068981Z"
    },
    "papermill": {
     "duration": 0.039683,
     "end_time": "2021-04-18T15:42:00.069856",
     "exception": false,
     "start_time": "2021-04-18T15:42:00.030173",
     "status": "completed"
    },
    "tags": []
   },
   "outputs": [],
   "source": [
    "df.to_csv(\"./filled.csv\", index=False)"
   ]
  },
  {
   "cell_type": "code",
   "execution_count": null,
   "id": "extra-friendship",
   "metadata": {
    "papermill": {
     "duration": 0.022054,
     "end_time": "2021-04-18T15:42:00.115273",
     "exception": false,
     "start_time": "2021-04-18T15:42:00.093219",
     "status": "completed"
    },
    "tags": []
   },
   "outputs": [],
   "source": []
  }
 ],
 "metadata": {
  "kernelspec": {
   "display_name": "Python 3",
   "language": "python",
   "name": "python3"
  },
  "language_info": {
   "codemirror_mode": {
    "name": "ipython",
    "version": 3
   },
   "file_extension": ".py",
   "mimetype": "text/x-python",
   "name": "python",
   "nbconvert_exporter": "python",
   "pygments_lexer": "ipython3",
   "version": "3.7.9"
  },
  "papermill": {
   "default_parameters": {},
   "duration": 11.059021,
   "end_time": "2021-04-18T15:42:00.847087",
   "environment_variables": {},
   "exception": null,
   "input_path": "__notebook__.ipynb",
   "output_path": "__notebook__.ipynb",
   "parameters": {},
   "start_time": "2021-04-18T15:41:49.788066",
   "version": "2.3.2"
  }
 },
 "nbformat": 4,
 "nbformat_minor": 5
}

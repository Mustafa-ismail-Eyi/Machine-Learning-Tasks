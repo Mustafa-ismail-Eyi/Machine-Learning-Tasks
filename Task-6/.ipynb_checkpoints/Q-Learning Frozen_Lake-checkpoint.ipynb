{
 "cells": [
  {
   "cell_type": "code",
   "execution_count": 1,
   "id": "4c3ce5eb",
   "metadata": {},
   "outputs": [],
   "source": [
    "# reinforcement learning için kullanılan kütüphane\n",
    "# pip install gym\n",
    "import gym\n",
    "# aritmetik operasyonlar için kullanılan kütüphane\n",
    "import numpy as np\n",
    "# random sayı üretmek için kullanılan kütüphane\n",
    "import random\n",
    "# display almak için kullanılan kütüphane\n",
    "from IPython.display import clear_output\n",
    "# sistemi belli bir süre boyunca işlem yapmamasını sağlayan kütüphane\n",
    "from time import sleep\n"
   ]
  },
  {
   "cell_type": "code",
   "execution_count": 7,
   "id": "d0e94977",
   "metadata": {},
   "outputs": [],
   "source": [
    "# Frozen lake isimli bir environment yaratıyor\n",
    "env = gym.make(\"FrozenLake-v0\")"
   ]
  },
  {
   "cell_type": "code",
   "execution_count": 8,
   "id": "4cc7be8b",
   "metadata": {},
   "outputs": [],
   "source": [
    "# Q table for q learning\n",
    "Q = {}\n",
    "\n",
    "# s state\n",
    "for s in range(env.observation_space.n):\n",
    "    # a action\n",
    "    for a in range(env.action_space.n):\n",
    "        # initializing the states and actions table with 0\n",
    "        Q[(s,a)] = 0.0"
   ]
  },
  {
   "cell_type": "code",
   "execution_count": 9,
   "id": "c0b45a99",
   "metadata": {},
   "outputs": [],
   "source": [
    "# action'ın ayarlanması\n",
    "def epsilon_greedy(state, epsilon):\n",
    "    if random.uniform(0,1) < epsilon:\n",
    "        return env.action_space.sample()\n",
    "    else:\n",
    "        return max(list(range(env.action_space.n)), key = lambda x:Q[(state,x)])"
   ]
  },
  {
   "cell_type": "code",
   "execution_count": 10,
   "id": "66baceae",
   "metadata": {},
   "outputs": [],
   "source": [
    "# gerekli parametrelerin ayarlanması\n",
    "alpha = 0.99\n",
    "gamma = 0.9\n",
    "epsilon = 0.99"
   ]
  },
  {
   "cell_type": "code",
   "execution_count": 11,
   "id": "1174c40c",
   "metadata": {},
   "outputs": [],
   "source": [
    "num_episodes = 50000\n",
    "num_timesteps = 1000"
   ]
  },
  {
   "cell_type": "code",
   "execution_count": null,
   "id": "e7018071",
   "metadata": {},
   "outputs": [],
   "source": [
    "frames = []\n",
    "# environment'in öğrenilmesi ve eğitimi\n",
    "for i in range(num_episodes):\n",
    "    s = env.reset()\n",
    "    for t in range(num_timesteps):\n",
    "        a = epsilon_greedy(s,epsilon)\n",
    "        # s_ s' -> bir sonraki state\n",
    "        # r -> reward\n",
    "        # done bitip bitmediğini gösteriyor\n",
    "        s_, r, done, _ = env.step(a)\n",
    "        # Q tablosuna göre a durumundaki en yüksek paunlısını alıyor\n",
    "        a_ = np.argmax(Q[(s_, a)] for a in range(env.action_space.n))\n",
    "        # Q tablosuna yerleştirme yapıyor\n",
    "        Q[(s,a)] += alpha * (r + gamma * Q[(s_, a_)] - Q[(s,a)])\n",
    "        # eski state'i yenisiyle güncelliyor\n",
    "        s = s_\n",
    "        # animasyon için frames list'ine ekleme yapıyor\n",
    "        frames.append({\n",
    "        'frame': env.render(mode='ansi'),\n",
    "        'state': s_,\n",
    "        'action': a,\n",
    "        'reward': r\n",
    "        }\n",
    "    )\n",
    "        if done:\n",
    "            break"
   ]
  },
  {
   "cell_type": "code",
   "execution_count": null,
   "id": "4c5b2159",
   "metadata": {},
   "outputs": [],
   "source": [
    "# animasyonun oynatılması için gerekli fonskyion ve oynatılması\n",
    "def print_frames(frames):\n",
    "    for i, frame in enumerate(frames):\n",
    "        clear_output(wait=True)\n",
    "        print(frame['frame'])\n",
    "        print(f\"Timestep: {i + 1}\")\n",
    "        print(f\"State: {frame['state']}\")\n",
    "        print(f\"Action: {frame['action']}\")\n",
    "        print(f\"Reward: {frame['reward']}\")\n",
    "        sleep(.1)\n",
    "        \n",
    "print_frames(frames)"
   ]
  },
  {
   "cell_type": "markdown",
   "id": "53c4f2d5",
   "metadata": {},
   "source": [
    "    \"\"\"\n",
    "    Winter is here. You and your friends were tossing around a frisbee at the\n",
    "    park when you made a wild throw that left the frisbee out in the middle of\n",
    "    the lake. The water is mostly frozen, but there are a few holes where the\n",
    "    ice has melted. If you step into one of those holes, you'll fall into the\n",
    "    freezing water. At this time, there's an international frisbee shortage, so\n",
    "    it's absolutely imperative that you navigate across the lake and retrieve\n",
    "    the disc. However, the ice is slippery, so you won't always move in the\n",
    "    direction you intend.\n",
    "    The surface is described using a grid like the following\n",
    "        SFFF\n",
    "        FHFH\n",
    "        FFFH\n",
    "        HFFG\n",
    "    S : starting point, safe\n",
    "    F : frozen surface, safe\n",
    "    H : hole, fall to your doom\n",
    "    G : goal, where the frisbee is located\n",
    "    The episode ends when you reach the goal or fall in a hole.\n",
    "    You receive a reward of 1 if you reach the goal, and zero otherwise.\n",
    "    \"\"\""
   ]
  },
  {
   "cell_type": "code",
   "execution_count": null,
   "id": "98d970e7",
   "metadata": {},
   "outputs": [],
   "source": []
  }
 ],
 "metadata": {
  "kernelspec": {
   "display_name": "Python 3",
   "language": "python",
   "name": "python3"
  },
  "language_info": {
   "codemirror_mode": {
    "name": "ipython",
    "version": 3
   },
   "file_extension": ".py",
   "mimetype": "text/x-python",
   "name": "python",
   "nbconvert_exporter": "python",
   "pygments_lexer": "ipython3",
   "version": "3.7.5"
  }
 },
 "nbformat": 4,
 "nbformat_minor": 5
}
